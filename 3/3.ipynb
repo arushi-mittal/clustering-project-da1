{
 "cells": [
  {
   "cell_type": "markdown",
   "id": "fb4c59c3",
   "metadata": {},
   "source": [
    "# Hierarchical Clustering"
   ]
  },
  {
   "cell_type": "markdown",
   "id": "c3b52e75",
   "metadata": {},
   "source": [
    "### Import necessary libraries"
   ]
  },
  {
   "cell_type": "code",
   "execution_count": 4,
   "id": "1208127c",
   "metadata": {},
   "outputs": [],
   "source": [
    "import numpy as np\n",
    "import matplotlib.pyplot as plt\n",
    "import pandas as pd\n",
    "import seaborn as sns\n",
    "import scipy.cluster.hierarchy as shc\n",
    "from sklearn.preprocessing import StandardScaler, normalize"
   ]
  },
  {
   "cell_type": "markdown",
   "id": "afe86c64",
   "metadata": {},
   "source": [
    "### Read data and remove nulls\n"
   ]
  },
  {
   "cell_type": "code",
   "execution_count": 5,
   "id": "3f02948b",
   "metadata": {},
   "outputs": [],
   "source": [
    "football_data = pd.read_csv(\"../football_data.csv\", index_col=False)\n",
    "football_data.fillna(method ='ffill', inplace = True)\n",
    "football_data = football_data.select_dtypes(include=np.number)\n",
    "football_data = football_data.drop(['Unnamed: 0', 'ID', 'Jersey Number'], axis = 1)"
   ]
  },
  {
   "cell_type": "markdown",
   "id": "b4fe75d1",
   "metadata": {},
   "source": [
    "### Scale and normalize data for easier processing"
   ]
  },
  {
   "cell_type": "code",
   "execution_count": 6,
   "id": "0bbe04cd",
   "metadata": {},
   "outputs": [],
   "source": [
    "scaler = StandardScaler()\n",
    "football_data = scaler.fit_transform(football_data)\n",
    "football_data = pd.DataFrame(normalize(football_data))"
   ]
  },
  {
   "cell_type": "markdown",
   "id": "f339a3b8",
   "metadata": {},
   "source": [
    "### Plot Dendrogram"
   ]
  },
  {
   "cell_type": "code",
   "execution_count": 8,
   "id": "8707cb50",
   "metadata": {},
   "outputs": [
    {
     "data": {
      "image/png": "[encoded data removed]",
      "text/plain": [
       "<Figure size 432x288 with 1 Axes>"
      ]
     },
     "metadata": {
      "needs_background": "light"
     },
     "output_type": "display_data"
    }
   ],
   "source": [
    "plt.figure()\n",
    "plt.title('Agglomerative Clustering')\n",
    "dendrogram = shc.dendrogram((shc.linkage(football_data, method ='ward')))\n",
    "plt.show()"
   ]
  }
 ],
 "metadata": {
  "kernelspec": {
   "display_name": "Python 3",
   "language": "python",
   "name": "python3"
  },
  "language_info": {
   "codemirror_mode": {
    "name": "ipython",
    "version": 3
   },
   "file_extension": ".py",
   "mimetype": "text/x-python",
   "name": "python",
   "nbconvert_exporter": "python",
   "pygments_lexer": "ipython3",
   "version": "3.9.4"
  }
 },
 "nbformat": 4,
 "nbformat_minor": 5
}
